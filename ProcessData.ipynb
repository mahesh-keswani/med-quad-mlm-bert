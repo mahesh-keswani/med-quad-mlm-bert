{
  "nbformat": 4,
  "nbformat_minor": 0,
  "metadata": {
    "colab": {
      "name": "ProcessData.ipynb",
      "provenance": []
    },
    "kernelspec": {
      "name": "python3",
      "display_name": "Python 3"
    },
    "language_info": {
      "name": "python"
    }
  },
  "cells": [
    {
      "cell_type": "code",
      "execution_count": null,
      "metadata": {
        "id": "ZlwgWwWi6k-s"
      },
      "outputs": [],
      "source": [
        "# Dataset: https://github.com/abachaa/MedQuAD\n",
        "# Folders with empty answers: 10_MPlus_ADAM_QA, 11_MPlusDrugs_QA, 12_MPlusHerbsSupplements_QA"
      ]
    },
    {
      "cell_type": "code",
      "source": [
        "!pip install xmltodict"
      ],
      "metadata": {
        "id": "2oMnwvIeltRs",
        "colab": {
          "base_uri": "https://localhost:8080/"
        },
        "outputId": "15690060-c047-4f3b-c38e-5dc7e496dd10"
      },
      "execution_count": null,
      "outputs": [
        {
          "output_type": "stream",
          "name": "stdout",
          "text": [
            "Looking in indexes: https://pypi.org/simple, https://us-python.pkg.dev/colab-wheels/public/simple/\n",
            "Requirement already satisfied: xmltodict in /usr/local/lib/python3.7/dist-packages (0.13.0)\n"
          ]
        }
      ]
    },
    {
      "cell_type": "code",
      "source": [
        "!pip install jsonpath"
      ],
      "metadata": {
        "colab": {
          "base_uri": "https://localhost:8080/"
        },
        "id": "plu7s7l5rXNF",
        "outputId": "1f82b359-9ea6-4424-cb22-9db94ab3cf85"
      },
      "execution_count": null,
      "outputs": [
        {
          "output_type": "stream",
          "name": "stdout",
          "text": [
            "Looking in indexes: https://pypi.org/simple, https://us-python.pkg.dev/colab-wheels/public/simple/\n",
            "Requirement already satisfied: jsonpath in /usr/local/lib/python3.7/dist-packages (0.82)\n"
          ]
        }
      ]
    },
    {
      "cell_type": "code",
      "source": [
        "import json\n",
        "import os\n",
        "import xmltodict\n",
        "import re\n",
        "import time\n",
        "import pandas as pd\n",
        "from jsonpath import jsonpath"
      ],
      "metadata": {
        "id": "X1ImBI2_ovtm"
      },
      "execution_count": null,
      "outputs": []
    },
    {
      "cell_type": "code",
      "source": [
        "data = {\n",
        "    \"Questions\": [],\n",
        "    \"Answers\": [],\n",
        "    \"Focus\": []\n",
        "}\n",
        "\n",
        "def processXmlFile(completePath):\n",
        "    with open(completePath) as f:\n",
        "        xmlstring = f.read()\n",
        "        try:\n",
        "            dataDict = xmltodict.parse(xmlstring, xml_attribs = False)\n",
        "            listOfQA = json.loads(json.dumps( jsonpath(dataDict, '$..' + \"QAPair\")[0]))\n",
        "            focus = json.loads(json.dumps( jsonpath(dataDict, '$..' + \"Focus\")[0]))\n",
        "        except Exception as e:\n",
        "            # i.e either QAPair is empty OR Focus\n",
        "            return\n",
        "\n",
        "        # if there is only single QA, then it will be dict instead of list\n",
        "        if isinstance(listOfQA, dict):\n",
        "            listOfQA = [listOfQA]\n",
        "        \n",
        "        for qaPair in listOfQA:\n",
        "            try:\n",
        "                # remove the extra spaces from answer with single space\n",
        "                x = re.sub(' +', ' ', qaPair['Answer'])\n",
        "                x = re.sub('Key Points', \"\", x)\n",
        "                x = x.replace(\"\\n\", \"\").replace(\"-\", \"\")\n",
        "                data['Answers'].append( x )\n",
        "                data['Questions'].append( qaPair['Question'] )\n",
        "                data['Focus'].append(focus)\n",
        "            except:\n",
        "                return"
      ],
      "metadata": {
        "id": "CuIPRhU-qC09"
      },
      "execution_count": null,
      "outputs": []
    },
    {
      "cell_type": "code",
      "source": [
        "foldersWithEmptyAnswers = [\n",
        "    \"10_MPlus_ADAM_QA\",\n",
        "     \"11_MPlusDrugs_QA\",\n",
        "     \"12_MPlusHerbsSupplements_QA\",\n",
        "     \"readme.txt\", # As it does not contain any QAs\n",
        "     \"QA-TestSet-LiveQA-Med-Qrels-2479-Answers.zip\", # will use it later,\n",
        "     \"ProcessedData.csv\"\n",
        "]\n",
        "\n",
        "BASE_PATH = \"/content/drive/MyDrive/MedQuad/MedQuAD-master\"\n",
        "for folder in os.listdir(BASE_PATH):\n",
        "    if folder in foldersWithEmptyAnswers:\n",
        "        continue\n",
        "    else:\n",
        "        print(\"Processing folder:\", folder)\n",
        "        start = time.time()\n",
        "\n",
        "        for xmlFileName in os.listdir( os.path.join(BASE_PATH, folder) ):\n",
        "            completePath = os.path.join(BASE_PATH, folder, xmlFileName)\n",
        "            processXmlFile(completePath)\n",
        "        \n",
        "        print(\"Took\", time.time() - start)"
      ],
      "metadata": {
        "colab": {
          "base_uri": "https://localhost:8080/"
        },
        "id": "Zv5Dt2ito4lx",
        "outputId": "14c12f41-117e-456a-d35d-a4dc00ae2477"
      },
      "execution_count": null,
      "outputs": [
        {
          "output_type": "stream",
          "name": "stdout",
          "text": [
            "Processing folder: 4_MPlus_Health_Topics_QA\n",
            "Took 2.751258611679077\n",
            "Processing folder: 6_NINDS_QA\n",
            "Took 0.7467536926269531\n",
            "Processing folder: 7_SeniorHealth_QA\n",
            "Took 0.2584519386291504\n",
            "Processing folder: 2_GARD_QA\n",
            "Took 12.15547513961792\n",
            "Processing folder: 1_CancerGov_QA\n",
            "Took 0.752143144607544\n",
            "Processing folder: 8_NHLBI_QA_XML\n",
            "Took 0.471926212310791\n",
            "Processing folder: 3_GHR_QA\n",
            "Took 4.997699737548828\n",
            "Processing folder: 5_NIDDK_QA\n",
            "Took 0.7267694473266602\n",
            "Processing folder: 9_CDC_QA\n",
            "Took 0.18634390830993652\n"
          ]
        }
      ]
    },
    {
      "cell_type": "code",
      "source": [
        "df = pd.DataFrame(data)\n",
        "df.head()"
      ],
      "metadata": {
        "colab": {
          "base_uri": "https://localhost:8080/",
          "height": 250
        },
        "id": "5jirq7TCpZ6u",
        "outputId": "42930841-506a-43c5-a387-a1bc63ac7ae2"
      },
      "execution_count": null,
      "outputs": [
        {
          "output_type": "execute_result",
          "data": {
            "text/plain": [
              "                                       Questions  \\\n",
              "0    What is (are) Neck Injuries and Disorders ?   \n",
              "1    What is (are) Heel Injuries and Disorders ?   \n",
              "2         Do you have information about CT Scans   \n",
              "3                      What is (are) Self-harm ?   \n",
              "4  Do you have information about Seniors' Health   \n",
              "\n",
              "                                             Answers  \\\n",
              "0  Any part of your neck  muscles, bones, joints,...   \n",
              "1  Heel problems are common and can be painful. O...   \n",
              "2  Summary : Computed tomography (CT) is a type o...   \n",
              "3  Selfharm refers to a person's harming their ow...   \n",
              "4  Summary : People in the U.S. are living longer...   \n",
              "\n",
              "                         Focus  \n",
              "0  Neck Injuries and Disorders  \n",
              "1  Heel Injuries and Disorders  \n",
              "2                     CT Scans  \n",
              "3                    Self-harm  \n",
              "4              Seniors' Health  "
            ],
            "text/html": [
              "\n",
              "  <div id=\"df-2f3fe2c4-ba3a-4751-a05d-3f47afe29e9f\">\n",
              "    <div class=\"colab-df-container\">\n",
              "      <div>\n",
              "<style scoped>\n",
              "    .dataframe tbody tr th:only-of-type {\n",
              "        vertical-align: middle;\n",
              "    }\n",
              "\n",
              "    .dataframe tbody tr th {\n",
              "        vertical-align: top;\n",
              "    }\n",
              "\n",
              "    .dataframe thead th {\n",
              "        text-align: right;\n",
              "    }\n",
              "</style>\n",
              "<table border=\"1\" class=\"dataframe\">\n",
              "  <thead>\n",
              "    <tr style=\"text-align: right;\">\n",
              "      <th></th>\n",
              "      <th>Questions</th>\n",
              "      <th>Answers</th>\n",
              "      <th>Focus</th>\n",
              "    </tr>\n",
              "  </thead>\n",
              "  <tbody>\n",
              "    <tr>\n",
              "      <th>0</th>\n",
              "      <td>What is (are) Neck Injuries and Disorders ?</td>\n",
              "      <td>Any part of your neck  muscles, bones, joints,...</td>\n",
              "      <td>Neck Injuries and Disorders</td>\n",
              "    </tr>\n",
              "    <tr>\n",
              "      <th>1</th>\n",
              "      <td>What is (are) Heel Injuries and Disorders ?</td>\n",
              "      <td>Heel problems are common and can be painful. O...</td>\n",
              "      <td>Heel Injuries and Disorders</td>\n",
              "    </tr>\n",
              "    <tr>\n",
              "      <th>2</th>\n",
              "      <td>Do you have information about CT Scans</td>\n",
              "      <td>Summary : Computed tomography (CT) is a type o...</td>\n",
              "      <td>CT Scans</td>\n",
              "    </tr>\n",
              "    <tr>\n",
              "      <th>3</th>\n",
              "      <td>What is (are) Self-harm ?</td>\n",
              "      <td>Selfharm refers to a person's harming their ow...</td>\n",
              "      <td>Self-harm</td>\n",
              "    </tr>\n",
              "    <tr>\n",
              "      <th>4</th>\n",
              "      <td>Do you have information about Seniors' Health</td>\n",
              "      <td>Summary : People in the U.S. are living longer...</td>\n",
              "      <td>Seniors' Health</td>\n",
              "    </tr>\n",
              "  </tbody>\n",
              "</table>\n",
              "</div>\n",
              "      <button class=\"colab-df-convert\" onclick=\"convertToInteractive('df-2f3fe2c4-ba3a-4751-a05d-3f47afe29e9f')\"\n",
              "              title=\"Convert this dataframe to an interactive table.\"\n",
              "              style=\"display:none;\">\n",
              "        \n",
              "  <svg xmlns=\"http://www.w3.org/2000/svg\" height=\"24px\"viewBox=\"0 0 24 24\"\n",
              "       width=\"24px\">\n",
              "    <path d=\"M0 0h24v24H0V0z\" fill=\"none\"/>\n",
              "    <path d=\"M18.56 5.44l.94 2.06.94-2.06 2.06-.94-2.06-.94-.94-2.06-.94 2.06-2.06.94zm-11 1L8.5 8.5l.94-2.06 2.06-.94-2.06-.94L8.5 2.5l-.94 2.06-2.06.94zm10 10l.94 2.06.94-2.06 2.06-.94-2.06-.94-.94-2.06-.94 2.06-2.06.94z\"/><path d=\"M17.41 7.96l-1.37-1.37c-.4-.4-.92-.59-1.43-.59-.52 0-1.04.2-1.43.59L10.3 9.45l-7.72 7.72c-.78.78-.78 2.05 0 2.83L4 21.41c.39.39.9.59 1.41.59.51 0 1.02-.2 1.41-.59l7.78-7.78 2.81-2.81c.8-.78.8-2.07 0-2.86zM5.41 20L4 18.59l7.72-7.72 1.47 1.35L5.41 20z\"/>\n",
              "  </svg>\n",
              "      </button>\n",
              "      \n",
              "  <style>\n",
              "    .colab-df-container {\n",
              "      display:flex;\n",
              "      flex-wrap:wrap;\n",
              "      gap: 12px;\n",
              "    }\n",
              "\n",
              "    .colab-df-convert {\n",
              "      background-color: #E8F0FE;\n",
              "      border: none;\n",
              "      border-radius: 50%;\n",
              "      cursor: pointer;\n",
              "      display: none;\n",
              "      fill: #1967D2;\n",
              "      height: 32px;\n",
              "      padding: 0 0 0 0;\n",
              "      width: 32px;\n",
              "    }\n",
              "\n",
              "    .colab-df-convert:hover {\n",
              "      background-color: #E2EBFA;\n",
              "      box-shadow: 0px 1px 2px rgba(60, 64, 67, 0.3), 0px 1px 3px 1px rgba(60, 64, 67, 0.15);\n",
              "      fill: #174EA6;\n",
              "    }\n",
              "\n",
              "    [theme=dark] .colab-df-convert {\n",
              "      background-color: #3B4455;\n",
              "      fill: #D2E3FC;\n",
              "    }\n",
              "\n",
              "    [theme=dark] .colab-df-convert:hover {\n",
              "      background-color: #434B5C;\n",
              "      box-shadow: 0px 1px 3px 1px rgba(0, 0, 0, 0.15);\n",
              "      filter: drop-shadow(0px 1px 2px rgba(0, 0, 0, 0.3));\n",
              "      fill: #FFFFFF;\n",
              "    }\n",
              "  </style>\n",
              "\n",
              "      <script>\n",
              "        const buttonEl =\n",
              "          document.querySelector('#df-2f3fe2c4-ba3a-4751-a05d-3f47afe29e9f button.colab-df-convert');\n",
              "        buttonEl.style.display =\n",
              "          google.colab.kernel.accessAllowed ? 'block' : 'none';\n",
              "\n",
              "        async function convertToInteractive(key) {\n",
              "          const element = document.querySelector('#df-2f3fe2c4-ba3a-4751-a05d-3f47afe29e9f');\n",
              "          const dataTable =\n",
              "            await google.colab.kernel.invokeFunction('convertToInteractive',\n",
              "                                                     [key], {});\n",
              "          if (!dataTable) return;\n",
              "\n",
              "          const docLinkHtml = 'Like what you see? Visit the ' +\n",
              "            '<a target=\"_blank\" href=https://colab.research.google.com/notebooks/data_table.ipynb>data table notebook</a>'\n",
              "            + ' to learn more about interactive tables.';\n",
              "          element.innerHTML = '';\n",
              "          dataTable['output_type'] = 'display_data';\n",
              "          await google.colab.output.renderOutput(dataTable, element);\n",
              "          const docLink = document.createElement('div');\n",
              "          docLink.innerHTML = docLinkHtml;\n",
              "          element.appendChild(docLink);\n",
              "        }\n",
              "      </script>\n",
              "    </div>\n",
              "  </div>\n",
              "  "
            ]
          },
          "metadata": {},
          "execution_count": 21
        }
      ]
    },
    {
      "cell_type": "code",
      "source": [
        "df.shape"
      ],
      "metadata": {
        "colab": {
          "base_uri": "https://localhost:8080/"
        },
        "id": "aetY5keMxYuK",
        "outputId": "b097e656-b876-406b-aec6-3a76fd95cd13"
      },
      "execution_count": null,
      "outputs": [
        {
          "output_type": "execute_result",
          "data": {
            "text/plain": [
              "(16402, 3)"
            ]
          },
          "metadata": {},
          "execution_count": 22
        }
      ]
    },
    {
      "cell_type": "code",
      "source": [
        "df.to_csv('ProcessedData.csv', index = False)"
      ],
      "metadata": {
        "id": "ha62unb65eFB"
      },
      "execution_count": null,
      "outputs": []
    },
    {
      "cell_type": "code",
      "source": [
        "!mv ProcessedData.csv BASE_PATH"
      ],
      "metadata": {
        "id": "nXe43TM275ol"
      },
      "execution_count": null,
      "outputs": []
    },
    {
      "cell_type": "code",
      "source": [
        ""
      ],
      "metadata": {
        "id": "HQF03ZmZyEsZ"
      },
      "execution_count": null,
      "outputs": []
    }
  ]
}